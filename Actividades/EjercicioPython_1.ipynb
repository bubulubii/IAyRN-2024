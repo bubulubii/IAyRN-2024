{
  "nbformat": 4,
  "nbformat_minor": 0,
  "metadata": {
    "colab": {
      "provenance": [],
      "authorship_tag": "ABX9TyOAlOOjCtBPFLGzhm5PDEL0",
      "include_colab_link": true
    },
    "kernelspec": {
      "name": "python3",
      "display_name": "Python 3"
    },
    "language_info": {
      "name": "python"
    }
  },
  "cells": [
    {
      "cell_type": "markdown",
      "metadata": {
        "id": "view-in-github",
        "colab_type": "text"
      },
      "source": [
        "<a href=\"https://colab.research.google.com/github/bubulubii/IAyRN-2024/blob/main/Actividades/EjercicioPython_1.ipynb\" target=\"_parent\"><img src=\"https://colab.research.google.com/assets/colab-badge.svg\" alt=\"Open In Colab\"/></a>"
      ]
    },
    {
      "cell_type": "markdown",
      "source": [
        "Actividad 2: Diseño de algoritmos en Python.\n",
        "María Fernanda Ramos Campos.\n",
        "Matrícula: 2109376. Hora: N4"
      ],
      "metadata": {
        "id": "PT57broV_iuf"
      }
    },
    {
      "cell_type": "code",
      "execution_count": null,
      "metadata": {
        "id": "2u5PvuDE_chd"
      },
      "outputs": [],
      "source": []
    },
    {
      "cell_type": "markdown",
      "source": [
        "1. Algoritmo que le pide al usuario su nombre, y lo saludará con este, excepto si se llama “Ana”, “Juan”, y “Pedro”."
      ],
      "metadata": {
        "id": "51ZREvB05n51"
      }
    },
    {
      "cell_type": "code",
      "source": [
        "# Solicitamos al usuario su nombre, para lo que declararemos la variable \"Nombre\".\n",
        "\n",
        "nombre = input(\"Un gusto, ¿Cómo te llamas? \")\n",
        "\n",
        "# Confirmaremos si el nombre no es parte de los nombres a excluir, y dependiendo de ello se hará el saludo.\n",
        "# Agregaremos dentro de la condición una función para indiscriminar el uso de mayúsculas o minúsculas.\n",
        "\n",
        "if nombre.lower() not in[\"ana\", \"juan\", \"pedro\"]:\n",
        "  print(f\"Buen día, {nombre}.\")\n",
        "else:\n",
        "    print(\"¡Hola!, Buen día\")\n"
      ],
      "metadata": {
        "colab": {
          "base_uri": "https://localhost:8080/"
        },
        "id": "YU4aQ0vw2cqx",
        "outputId": "bf3bde87-3d90-40e3-c7f5-345c90fda776"
      },
      "execution_count": null,
      "outputs": [
        {
          "output_type": "stream",
          "name": "stdout",
          "text": [
            "Un gusto, ¿Cómo te llamas? Fernanda\n",
            "Buen día, Fernanda.\n"
          ]
        }
      ]
    },
    {
      "cell_type": "markdown",
      "source": [
        "2. Algoritmo que pide al usuario una lista de N elementos, y como resultado, invierte el sentido de la misma, por medio de una función."
      ],
      "metadata": {
        "id": "MyjCRVEY5rZR"
      }
    },
    {
      "cell_type": "code",
      "source": [
        "#Definimos la función.\n",
        "\n",
        "def invertir_lista():\n",
        "\n",
        "#Preguntamos el número de elementos, para así poder crear la lista y solicitar al usuario los elementos\n",
        "\n",
        "  n = int(input(\"Número de elementos para la lista: \"))\n",
        "  list = []\n",
        "  for i in range(n):\n",
        "    element = input(f\"Introduce el elemento {i + 1}: \")\n",
        "    list.append(element)\n",
        "\n",
        "#Damos la instrucción de invertir la lista, y de regresarla.\n",
        "\n",
        "  inverted_list = list [::-1]\n",
        "  return inverted_list\n",
        "\n",
        "#Utilizamos la función definida para solicitar la misma.\n",
        "\n",
        "inverted_list = invertir_lista()\n",
        "\n",
        "#Mostramos la lista.\n",
        "\n",
        "print(\"Tu nueva lista es: \", inverted_list)"
      ],
      "metadata": {
        "colab": {
          "base_uri": "https://localhost:8080/"
        },
        "id": "_kSvBZk-5gT7",
        "outputId": "902da6c4-1d84-4272-aeb5-ee424659efe9"
      },
      "execution_count": null,
      "outputs": [
        {
          "output_type": "stream",
          "name": "stdout",
          "text": [
            "Número de elementos para la lista: 5\n",
            "Introduce el elemento 1: Azul\n",
            "Introduce el elemento 2: Verde\n",
            "Introduce el elemento 3: Morado\n",
            "Introduce el elemento 4: Rosado\n",
            "Introduce el elemento 5: Blanco\n",
            "Tu nueva lista es:  ['Blanco', 'Rosado', 'Morado', 'Verde', 'Azul']\n"
          ]
        }
      ]
    },
    {
      "cell_type": "markdown",
      "source": [
        "3. Algoritmo que permite al usuario generar e imprimir números de la serie de Fibonacci, preguntándole cuántos quiere generar."
      ],
      "metadata": {
        "id": "AwA_vRqH5q60"
      }
    },
    {
      "cell_type": "code",
      "source": [
        "# Comenzamos definiendo la función de generar números de la serie de Fibonacci.\n",
        "#En ella, se incluye la cantidad de números a generar y se piden los primeros \"n\" números de la misma.\n",
        "\n",
        "def fibonacci(n):\n",
        "  a, b = 0, 1\n",
        "  serie_fibonacci = []\n",
        "  for i in range(n):\n",
        "    serie_fibonacci.append(a)\n",
        "    a, b = b, a + b\n",
        "  return serie_fibonacci\n",
        "\n",
        "# Ya teniéndolo, el algoritmo preguntará la cantidad de números a generar.\n",
        "# Finalmente, se genera lo solicitado.\n",
        "\n",
        "n= int(input(\"Ingrese la cantidad de números de la Serie de Fibonacci a generar: \"))\n",
        "serie_fibonacci = fibonacci(n)\n",
        "print(\"Tu serie de Fibonacci es: \", serie_fibonacci)"
      ],
      "metadata": {
        "colab": {
          "base_uri": "https://localhost:8080/"
        },
        "id": "GBQtg9QLCixc",
        "outputId": "f9d68196-194c-4e4a-e960-ce37626d94e7"
      },
      "execution_count": null,
      "outputs": [
        {
          "output_type": "stream",
          "name": "stdout",
          "text": [
            "Ingrese la cantidad de números de la Serie de Fibonacci a generar: 8\n",
            "Tu serie de Fibonacci es:  [0, 1, 1, 2, 3, 5, 8, 13]\n"
          ]
        }
      ]
    },
    {
      "cell_type": "markdown",
      "source": [
        "4. Juego de adivinar el número: Creación de un programa que genere un número aleatorio entre 1 y 100, y luego le pida al usuario que adivine el número. El programa debe proporcionar pistas al usuario si el número es mayor o menor que el número objetivo, y seguir solicitando un nuevo intento hasta que el usuario adivine correctamente."
      ],
      "metadata": {
        "id": "ggkvn6jQI-5E"
      }
    },
    {
      "cell_type": "code",
      "source": [
        "# Importamos la librería de números aleatorios, para que así el programa pueda generarlo.\n",
        "\n",
        "import random\n",
        "\n",
        "secret_number = random.randint(1, 100)\n",
        "\n",
        "\n",
        "#Definimos la función que se usará en el juego, la cual generará al número aleatorio.\n",
        "\n",
        "def game_guess_number():\n",
        "\n",
        "  secret_number = random.randint(1, 100)\n",
        "\n",
        "\n",
        "#Para que el juego comience, le pedimos al código que diga las instrucciones.\n",
        "\n",
        "print(\" ¡Hola!, bienvenido a Guess the number. Generé un número aleatorio del 1-100, adivina cuál es (:9 \" )\n",
        "\n",
        "#Hacemos un bucle que dependa de si el jugador adivina el número o no, al pedirle ingresar un número y compararlo con el número generado.\n",
        "\n",
        "while True:\n",
        "       attempt = int(input(\"Dame tu suposición: \"))\n",
        "\n",
        "       if attempt == secret_number :\n",
        "           print(\"¡Yaay!, adivinaste.:D\")\n",
        "       elif attempt > secret_number :\n",
        "           print(\"¡Oops!, ese no era. Intenta nuevamente con una cantidad menor.\")\n",
        "       else:\n",
        "           print(\"¡Oops!, ese no era. Intenta nuevamente con una cantidad mayor.\")\n"
      ],
      "metadata": {
        "colab": {
          "base_uri": "https://localhost:8080/"
        },
        "id": "vUGJ6SgJCjgs",
        "outputId": "f4f8304d-eaf9-4c68-8fb7-11af9a5605b7"
      },
      "execution_count": null,
      "outputs": [
        {
          "output_type": "stream",
          "name": "stdout",
          "text": [
            " ¡Hola!, bienvenido a Guess the number. Generé un número aleatorio del 1-100, adivina cuál es (:9 \n",
            "Dame tu suposición: 8\n",
            "¡Oops!, ese no era. Intenta nuevamente con una cantidad mayor.\n",
            "Dame tu suposición: 17\n",
            "¡Oops!, ese no era. Intenta nuevamente con una cantidad mayor.\n",
            "Dame tu suposición: 56\n",
            "¡Oops!, ese no era. Intenta nuevamente con una cantidad mayor.\n",
            "Dame tu suposición: 98\n",
            "¡Oops!, ese no era. Intenta nuevamente con una cantidad menor.\n",
            "Dame tu suposición: 77\n",
            "¡Oops!, ese no era. Intenta nuevamente con una cantidad mayor.\n",
            "Dame tu suposición: 80\n",
            "¡Oops!, ese no era. Intenta nuevamente con una cantidad mayor.\n",
            "Dame tu suposición: 89\n",
            "¡Oops!, ese no era. Intenta nuevamente con una cantidad mayor.\n",
            "Dame tu suposición: 91\n",
            "¡Oops!, ese no era. Intenta nuevamente con una cantidad mayor.\n",
            "Dame tu suposición: 95\n",
            "¡Yaay!, adivinaste.:D\n"
          ]
        }
      ]
    },
    {
      "cell_type": "markdown",
      "source": [
        "5. Ejercicio de cálculo de números primos en un rango dado: Escribir un programa que solicite al usuario un rango de números y muestre todos los números primos dentro de ese rango.\n"
      ],
      "metadata": {
        "id": "p5J_rBwmCkIj"
      }
    },
    {
      "cell_type": "code",
      "source": [
        "# Definimos la función de determinar si hay números primos en el rango, y cuáles.\n",
        "\n",
        "def es_primo(num):\n",
        "    for i in range(2, num):\n",
        "     if num % i == 0:\n",
        "      return False\n",
        "     return True\n",
        "\n",
        "# Para que el usuario ponga el rango:\n",
        "\n",
        "rango_start = int(input(\"Hola, dime dónde inicia tu rango. \"))\n",
        "rango_end = int(input(\"Dime dónde termina. \"))\n",
        "\n",
        "# Imprimir los números primos dentro del rango seleccionado.\n",
        "\n",
        "print(\"Números primos entre\", rango_start, \"y\", rango_end, \":\")\n",
        "for num in range(rango_start, rango_end + 1):\n",
        "  if es_primo(num):\n",
        "    print(num)"
      ],
      "metadata": {
        "colab": {
          "base_uri": "https://localhost:8080/"
        },
        "id": "UlOTo2isCkjX",
        "outputId": "cfebb0c1-3bab-408a-d27c-a5718ec8b02d"
      },
      "execution_count": null,
      "outputs": [
        {
          "output_type": "stream",
          "name": "stdout",
          "text": [
            "Hola, dime dónde inicia tu rango. 1\n",
            "Dime dónde termina. 15\n",
            "Números primos entre 1 y 15 :\n",
            "3\n",
            "5\n",
            "7\n",
            "9\n",
            "11\n",
            "13\n",
            "15\n"
          ]
        }
      ]
    },
    {
      "cell_type": "markdown",
      "source": [
        "6. Ejercicio de implementación de una calculadora básica utilizando funciones: Escribir un programa que solicite al usuario dos números y realice operaciones básicas como suma, resta, multiplicación y división utilizando funciones separadas para cada operación.\n"
      ],
      "metadata": {
        "id": "u1aho6ApCwQC"
      }
    },
    {
      "cell_type": "code",
      "source": [
        "# Definimos las funciones para las operaciones básicas.\n",
        "\n",
        "def sum(a, b):\n",
        "  return a + b\n",
        "\n",
        "def substraction(a, b):\n",
        "  return a - b\n",
        "\n",
        "def multiplication(a, b):\n",
        "  return a * b\n",
        "\n",
        "def division(a, b):\n",
        "  if b == 0:\n",
        "    return \"Error: División por cero.\"\n",
        "  else:\n",
        "    return a / b\n",
        "\n",
        "# Pedimos al usuario los números\n",
        "\n",
        "num_1 = float(input(\"Dame el primer número: \"))\n",
        "num_2 = float(input(\"Dame el segundo número: \"))\n",
        "\n",
        "# Mostramos las opciones y solicitamos elección.\n",
        "\n",
        "print(\"¿Qué cálculo quieres hacer? :\")\n",
        "print(\"1. Suma\")\n",
        "print(\"2. Resta\")\n",
        "print(\"3. Multiplicación\")\n",
        "print(\"4. División\")\n",
        "\n",
        "operacion = int(input(\"Elige tu opción: \"))\n",
        "\n",
        "# Se hacen los cálculos\n",
        "\n",
        "if operacion == 1:\n",
        "  resultado = sum(num_1, num_2)\n",
        "  print(f\"La suma de {num_1} y {num_2} es {resultado}\")\n",
        "elif operacion == 2:\n",
        "  resultado = substraction(num_1, num_2)\n",
        "  print(f\"La resta de {num_1} y {num_2} es {resultado}\")\n",
        "elif operacion == 3:\n",
        "  resultado = multiplication(num_1, num_2)\n",
        "  print(f\"La multiplicación de {num_1} y {num_2} es {resultado}\")\n",
        "elif operacion == 4:\n",
        "  resultado = division(num_1, num_2)\n",
        "  if isinstance(resultado, str):\n",
        "    print(resultado)\n",
        "  else:\n",
        "    print(f\"La división de {num_1} y {num_2} es {resultado}\")\n",
        "else:\n",
        "  print(\"Operación no válida.\")"
      ],
      "metadata": {
        "colab": {
          "base_uri": "https://localhost:8080/"
        },
        "id": "BeaavO_rCzwL",
        "outputId": "c4772324-9e06-43e2-e67d-fe4588a47919"
      },
      "execution_count": null,
      "outputs": [
        {
          "output_type": "stream",
          "name": "stdout",
          "text": [
            "Dame el primer número: 25\n",
            "Dame el segundo número: 15\n",
            "¿Qué cálculo quieres hacer? :\n",
            "1. Suma\n",
            "2. Resta\n",
            "3. Multiplicación\n",
            "4. División\n",
            "Elige tu opción: 3\n",
            "La multiplicación de 25.0 y 15.0 es 375.0\n"
          ]
        }
      ]
    }
  ]
}